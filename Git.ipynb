{
 "cells": [
  {
   "cell_type": "markdown",
   "metadata": {},
   "source": [
    "## Using git for version control on your notebooks\n",
    "How to use git for tracking changes on your notebooks "
   ]
  },
  {
   "cell_type": "markdown",
   "metadata": {},
   "source": [
    "#0. configure for the first time (using git config to make ~/.gitconfig):\n",
    "\n",
    "    git config user.name \"someone\"\n",
    "    git config user.email \"someone@someplace.com\"\n",
    "    #git config --global core.editor emacs\n",
    "    git config --list\n",
    "    git help config   \n",
    "    # git config -h\n",
    "\n",
    "#1. initialize your repository\n",
    "\n",
    "    cd ~/notebooks\n",
    "    git init\n",
    "    git add *.ipynb\n",
    "    git commit -m \"some initial msg\"\n",
    "\n",
    "#2. add a new notebook \n",
    "\n",
    "    git add NewNotebook.ipynb\n",
    "    git status\n",
    "    git commit -m \"added NewNotebook\"\n",
    "\n",
    "#3. commit changes to modified notebook\n",
    "\n",
    "    git status\n",
    "    git commit -m \"changed NewNotebook in importants ways ...\"\n",
    "\n",
    "#4. going to make lots of changes? create a new branch first ...\n",
    "\n",
    "    git checkout -b <my branch name>\n",
    "\n",
    "#5  merge back when you are done ...\n",
    "   \n",
    "    git merge \n",
    "\n",
    "#6. make a working copy of an existing repository\n",
    "\n",
    "    git clone /path/to/repository\n",
    "    # and when done working\n",
    "    git push "
   ]
  },
  {
   "cell_type": "code",
   "execution_count": null,
   "metadata": {},
   "outputs": [],
   "source": []
  }
 ],
 "metadata": {
  "kernelspec": {
   "display_name": "Python 3",
   "language": "python",
   "name": "python3"
  },
  "language_info": {
   "codemirror_mode": {
    "name": "ipython",
    "version": 3
   },
   "file_extension": ".py",
   "mimetype": "text/x-python",
   "name": "python",
   "nbconvert_exporter": "python",
   "pygments_lexer": "ipython3",
   "version": "3.6.2"
  }
 },
 "nbformat": 4,
 "nbformat_minor": 2
}
