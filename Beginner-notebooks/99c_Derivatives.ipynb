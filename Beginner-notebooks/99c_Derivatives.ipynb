{
 "cells": [
  {
   "cell_type": "code",
   "execution_count": null,
   "metadata": {},
   "outputs": [],
   "source": [
    "import numpy as np\n",
    "import xarray as xr\n",
    "from matplotlib import pyplot as plt\n",
    "%matplotlib inline\n",
    "plt.rcParams['figure.figsize'] = (8,5)\n",
    "from scipy.interpolate import *"
   ]
  },
  {
   "cell_type": "code",
   "execution_count": null,
   "metadata": {},
   "outputs": [],
   "source": [
    "x = np.linspace(0, 2*np.pi, 11)[0:-1]\n",
    "y = np.sin(x)\n",
    "\n",
    "# analytic derivative:\n",
    "dydxa = np.cos(x)\n",
    "\n",
    "# numpy derivatives:\n",
    "dydx1 = np.diff(y)/np.diff(x)\n",
    "np.shape(y),np.shape(dydx1)"
   ]
  },
  {
   "cell_type": "code",
   "execution_count": null,
   "metadata": {},
   "outputs": [],
   "source": [
    "# make a new grid for the derivative at half points: (numpy does not associate vars and coords)\n",
    "h = x[1] - x[0]\n",
    "x_half = x[0:-1] + h / 2"
   ]
  },
  {
   "cell_type": "code",
   "execution_count": null,
   "metadata": {},
   "outputs": [],
   "source": [
    "plt.plot(x,y,marker='o',label='y')\n",
    "plt.plot(x,dydxa,marker='o',label='analytic dydx')\n",
    "plt.plot(x[0:-1],dydx1,marker='o',label='numpy dydx - left points')\n",
    "plt.plot(x[1:],dydx1,marker='o',label='numpy dydx - right points')\n",
    "plt.plot(x_half,dydx1,marker='o',label='numpy dydx on half points')\n",
    "plt.legend(loc='lower left')"
   ]
  },
  {
   "cell_type": "code",
   "execution_count": null,
   "metadata": {},
   "outputs": [],
   "source": [
    "# xarray derivatives:\n",
    "da = xr.DataArray(y ,\n",
    "                  dims=['x'],\n",
    "                  coords={'x': x})\n",
    "\n",
    "dydxDA = da.diff('x')/da.x.diff('x')\n",
    "dydxDA.x"
   ]
  },
  {
   "cell_type": "code",
   "execution_count": null,
   "metadata": {},
   "outputs": [],
   "source": [
    "plt.plot(x,dydxa,marker='o',label='analytic dydx')\n",
    "dydxDA.plot(marker='o',label='xarray?') # default coordinates?\n",
    "plt.legend()"
   ]
  },
  {
   "cell_type": "code",
   "execution_count": null,
   "metadata": {},
   "outputs": [],
   "source": [
    "dy = da.diff('x').rolling(x=2).mean().shift(x=-1).dropna('x')\n",
    "dx = da.x.diff('x').rolling(x=2).mean().shift(x=-1).dropna('x')\n",
    "dydx = dy/dx\n",
    "\n",
    "plt.plot(x,dydxa,marker='o',label='analytic dydx')\n",
    "dydx.plot(marker='o',label='diff+interp+shift') # default coordinates?\n",
    "plt.legend()"
   ]
  },
  {
   "cell_type": "code",
   "execution_count": null,
   "metadata": {},
   "outputs": [],
   "source": [
    "# What about boundary points?  We could extend the whole DataArray:\n",
    "da_extend = xr.concat([da[-1], da, da[0]],'x')\n",
    "da_extend"
   ]
  },
  {
   "cell_type": "code",
   "execution_count": null,
   "metadata": {},
   "outputs": [],
   "source": [
    "# ... but the coordinate variable gets messed up - must separately extend the data and coordinate\n",
    "y_extend = xr.concat([da[-1], da, da[0]],'x')\n",
    "x_extend = xr.concat([da.x[0]-h, da.x, da.x[-1]+h],'x')"
   ]
  },
  {
   "cell_type": "code",
   "execution_count": null,
   "metadata": {},
   "outputs": [],
   "source": [
    "dy = y_extend.diff('x').rolling(x=2).mean().shift(x=-1).dropna('x')\n",
    "dx = x_extend.diff('x').rolling(x=2).mean().shift(x=-1).dropna('x')\n",
    "dydx_extended = dy/dx"
   ]
  },
  {
   "cell_type": "code",
   "execution_count": null,
   "metadata": {},
   "outputs": [],
   "source": [
    "plt.plot(x,dydxa,marker='o',label='analytic dydx')\n",
    "dydx_extended.plot(marker='o',label='second order dydx')\n",
    "plt.plot(x_half,dydx1,marker='o',label='numpy dydx')\n",
    "plt.legend()"
   ]
  },
  {
   "cell_type": "code",
   "execution_count": null,
   "metadata": {},
   "outputs": [],
   "source": [
    "abs(dydxa-dydx_extended).max()"
   ]
  },
  {
   "cell_type": "code",
   "execution_count": null,
   "metadata": {},
   "outputs": [],
   "source": [
    "for numpoints in [11,21,41,81,161]:\n",
    "    x = np.linspace(0, 2*np.pi, numpoints)[0:-1]\n",
    "    y = np.sin(x)\n",
    "    dydx = np.cos(x)\n",
    "    da = xr.DataArray(y , dims=['x'], coords={'x': x})\n",
    "    h = x[1] - x[0]\n",
    "    y_extend = xr.concat([da[-1], da, da[0]],'x')\n",
    "    x_extend = xr.concat([da.x[0]-h, da.x, da.x[-1]+h],'x')\n",
    "    dy = y_extend.diff('x').rolling(x=2).mean().shift(x=-1).dropna('x')\n",
    "    dx = x_extend.diff('x').rolling(x=2).mean().shift(x=-1).dropna('x')\n",
    "    residual = dy/dx - dydx\n",
    "    print(abs(residual).max())\n",
    "    residual.plot(label=numpoints)\n",
    "plt.legend()"
   ]
  },
  {
   "cell_type": "code",
   "execution_count": null,
   "metadata": {},
   "outputs": [],
   "source": []
  }
 ],
 "metadata": {
  "kernelspec": {
   "display_name": "Py3 pangeo",
   "language": "python",
   "name": "pangeo"
  },
  "language_info": {
   "codemirror_mode": {
    "name": "ipython",
    "version": 3
   },
   "file_extension": ".py",
   "mimetype": "text/x-python",
   "name": "python",
   "nbconvert_exporter": "python",
   "pygments_lexer": "ipython3",
   "version": "3.6.5"
  }
 },
 "nbformat": 4,
 "nbformat_minor": 2
}
