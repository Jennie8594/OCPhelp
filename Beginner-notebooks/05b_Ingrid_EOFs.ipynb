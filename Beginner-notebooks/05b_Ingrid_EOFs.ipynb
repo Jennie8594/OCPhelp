{
 "cells": [
  {
   "cell_type": "markdown",
   "metadata": {},
   "source": [
    "# Calculating EOFs & PCs using ingrid's 'svd' command\n",
    "\n",
    "## Importing ingrid DataCatalog calculations into notebooks using xarray and pandas"
   ]
  },
  {
   "cell_type": "code",
   "execution_count": null,
   "metadata": {},
   "outputs": [],
   "source": [
    "import pandas as pd\n",
    "import xarray as xr\n",
    "import numpy as np\n",
    "from matplotlib import pyplot as plt\n",
    "%matplotlib inline"
   ]
  },
  {
   "cell_type": "markdown",
   "metadata": {},
   "source": [
    "## First a digression about ingrid and time grids"
   ]
  },
  {
   "cell_type": "code",
   "execution_count": null,
   "metadata": {},
   "outputs": [],
   "source": [
    "# Ingrid dods URLs can be used directly into xr.open_dataset(), using decode_times\n",
    "URL = 'https://iridl.ldeo.columbia.edu/SOURCES/.NOAA/.NCDC/.ERSST/.version4/.anom/X/180/VALUE/Y/0/VALUE/dods'\n",
    "ds = xr.open_dataset(URL,decode_times=False)\n",
    "ds"
   ]
  },
  {
   "cell_type": "markdown",
   "metadata": {},
   "source": [
    "### N.B. time grid trouble from ingrid to xarray\n",
    "1. it usually works to convert into 'days since' using 'streamgridunitconvert' in ingrid\n",
    "2. another method is to use 'decode_times=False' and then use pandas to replace the dataset's time grid"
   ]
  },
  {
   "cell_type": "code",
   "execution_count": null,
   "metadata": {},
   "outputs": [],
   "source": [
    "# Method 1:\n",
    "baseURL = 'https://iridl.ldeo.columbia.edu/SOURCES/.NOAA/.NCDC/.ERSST/.version4/.anom/X/180/VALUE/Y/0/VALUE'\n",
    "# use the ingrid command: 'T (days since 1854-01-01) streamgridunitconvert'\n",
    "Tconvert = '/T/(days%20since%201854-01-01)streamgridunitconvert'  \n",
    "URL = baseURL+Tconvert+'/dods'\n",
    "ds = xr.open_dataset(URL)\n",
    "ds"
   ]
  },
  {
   "cell_type": "code",
   "execution_count": null,
   "metadata": {},
   "outputs": [],
   "source": [
    "# Method 2:\n",
    "ds = xr.open_dataset('https://iridl.ldeo.columbia.edu/SOURCES/.NOAA/.NCDC/.ERSST/.version4/.anom/X/180/VALUE/Y/0/VALUE/dods'\n",
    "                     ,decode_times=False)\n",
    "ds['T'] = pd.date_range('1/1/1854', periods=ds.anom.shape[0], freq='MS').shift(15, freq='D')\n",
    "ds"
   ]
  },
  {
   "cell_type": "code",
   "execution_count": null,
   "metadata": {},
   "outputs": [],
   "source": [
    "ingridsnippet = \"\"\"\n",
    " SOURCES .NOAA .NCDC .ERSST .version4 .anom zlev removeGRID\n",
    "  T (Jan\\ 1958) (Dec\\ 2014) RANGE\n",
    "  Y -40 40 RANGE\n",
    "  X 120 290 RANGE\n",
    "  yearly-anomalies\n",
    "  T 12 boxAverage\n",
    "  T (days\\ since\\ 1960-01-01) streamgridunitconvert\n",
    "\"\"\"\n",
    "snip = ' '.join(ingridsnippet.split()).replace('\\ ','%20').replace(' ','/')\n",
    "nc_url = 'https://iridl.ldeo.columbia.edu/'+snip+'/dods'\n",
    "print(nc_url)\n",
    "\n",
    "ds_anom = xr.open_dataset(nc_url)\n",
    "ds_anom"
   ]
  },
  {
   "cell_type": "markdown",
   "metadata": {},
   "source": [
    "### get the EOFs (spatial patterns)"
   ]
  },
  {
   "cell_type": "code",
   "execution_count": null,
   "metadata": {},
   "outputs": [],
   "source": [
    "ingridsnippet = \"\"\"\n",
    " SOURCES .NOAA .NCDC .ERSST .version4 .anom zlev removeGRID\n",
    "  T (Jan\\ 1958) (Dec\\ 2014) RANGE\n",
    "  Y -40 40 RANGE\n",
    "  X 120 290 RANGE\n",
    "  yearly-anomalies\n",
    "  T 12 boxAverage\n",
    "  {Y cosd sqrt}[Y X][T]svd\n",
    "  ev 1 4 RANGE .Ss\n",
    "\"\"\"\n",
    "snip = ' '.join(ingridsnippet.split()).replace('\\ ','%20').replace(' ','/')\n",
    "nc_url = 'https://iridl.ldeo.columbia.edu/'+snip+'/dods'\n",
    "\n",
    "# save the EOFs in the existing dataset\n",
    "ds_anom['Ss'] = xr.open_dataset(nc_url).Ss\n",
    "ds_anom"
   ]
  },
  {
   "cell_type": "markdown",
   "metadata": {},
   "source": [
    "### get the Principal Components (PCs)"
   ]
  },
  {
   "cell_type": "code",
   "execution_count": null,
   "metadata": {},
   "outputs": [],
   "source": [
    "ingridsnippet = \"\"\"\n",
    " SOURCES .NOAA .NCDC .ERSST .version4 .anom zlev removeGRID\n",
    "  T (Jan\\ 1958) (Dec\\ 2014) RANGE\n",
    "  Y -40 40 RANGE\n",
    "  X 120 290 RANGE\n",
    "  yearly-anomalies\n",
    "  T 12 boxAverage\n",
    "  {Y cosd sqrt}[Y X][T]svd\n",
    "  ev 1 4 RANGE .Ts\n",
    "\"\"\"\n",
    "snip = ' '.join(ingridsnippet.split()).replace('\\ ','%20').replace(' ','/')\n",
    "nc_url = 'https://iridl.ldeo.columbia.edu/'+snip+'/dods'\n",
    "ds2 = xr.open_dataset(nc_url,decode_times=False)\n",
    "\n",
    "# okay, lets fix the yearly time grid\n",
    "ds_anom['T'] = pd.date_range('1/1/1958', periods=ds2.Ts.shape[1], freq='AS-JUL')\n",
    "# now save the PCs\n",
    "ds_anom['Ts'] = (['ev','T'],ds2.Ts)\n",
    "ds_anom"
   ]
  },
  {
   "cell_type": "markdown",
   "metadata": {},
   "source": [
    "### plots "
   ]
  },
  {
   "cell_type": "code",
   "execution_count": null,
   "metadata": {},
   "outputs": [],
   "source": [
    "plt.figure(figsize=(8, 10))\n",
    "plt.subplot(211)\n",
    "ds_anom.Ss[0].plot()\n",
    "plt.subplot(212)\n",
    "ds_anom.Ss[1].plot()"
   ]
  },
  {
   "cell_type": "code",
   "execution_count": null,
   "metadata": {},
   "outputs": [],
   "source": [
    "ds_anom.Ts[0].plot(figsize=(10,5)); plt.title('PC1',fontsize=16)\n",
    "ds_anom.Ts[1].plot(figsize=(10,5)); plt.title('PC2',fontsize=16)"
   ]
  },
  {
   "cell_type": "code",
   "execution_count": null,
   "metadata": {},
   "outputs": [],
   "source": [
    "ds_anom.to_netcdf('ingrid_EOF.nc',encoding={'T':{'dtype':'float32'}})"
   ]
  },
  {
   "cell_type": "code",
   "execution_count": null,
   "metadata": {},
   "outputs": [],
   "source": []
  }
 ],
 "metadata": {
  "kernelspec": {
   "display_name": "Py3 pangeo",
   "language": "python",
   "name": "pangeo"
  },
  "language_info": {
   "codemirror_mode": {
    "name": "ipython",
    "version": 3
   },
   "file_extension": ".py",
   "mimetype": "text/x-python",
   "name": "python",
   "nbconvert_exporter": "python",
   "pygments_lexer": "ipython3",
   "version": "3.6.5"
  }
 },
 "nbformat": 4,
 "nbformat_minor": 2
}
