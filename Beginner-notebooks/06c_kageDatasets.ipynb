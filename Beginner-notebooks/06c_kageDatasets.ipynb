{
 "cells": [
  {
   "cell_type": "code",
   "execution_count": null,
   "metadata": {},
   "outputs": [],
   "source": [
    "import numpy as np\n",
    "import pandas as pd\n",
    "import xarray as xr\n",
    "from matplotlib import pyplot as plt\n",
    "%matplotlib inline\n",
    "plt.rcParams['figure.figsize'] = (8,5)\n",
    "from glob import glob"
   ]
  },
  {
   "cell_type": "code",
   "execution_count": null,
   "metadata": {},
   "outputs": [],
   "source": [
    "!ls /net/kage/d5/datasets"
   ]
  },
  {
   "cell_type": "code",
   "execution_count": null,
   "metadata": {},
   "outputs": [],
   "source": [
    "path = '/net/kage/d5/datasets/ERAInterim/monthly/'\n",
    "#dirs = glob(path+'/*'); dirs"
   ]
  },
  {
   "cell_type": "code",
   "execution_count": null,
   "metadata": {},
   "outputs": [],
   "source": [
    "ddict = {'Surface':path+'Surface/*.nc','VertInt':path+'VertInt/*.nc',\n",
    "         'Accum':path+'Accum/*.nc','PressureLevels':path+'PressureLevels/*.nc'}\n",
    "for key, value in ddict.items():\n",
    "    print(key,value)"
   ]
  },
  {
   "cell_type": "code",
   "execution_count": null,
   "metadata": {},
   "outputs": [],
   "source": [
    "dtype = 'Surface'\n",
    "ds_tmp = xr.open_mfdataset(glob(ddict[dtype]),decode_times=False)\n",
    "names = list(ds_tmp.data_vars.variables)"
   ]
  },
  {
   "cell_type": "code",
   "execution_count": null,
   "metadata": {},
   "outputs": [],
   "source": [
    "for var in sorted(names):\n",
    "    print(var+':\\t',ds_tmp[var].long_name)"
   ]
  },
  {
   "cell_type": "code",
   "execution_count": null,
   "metadata": {},
   "outputs": [],
   "source": [
    "ds_tmp.t2m[0,:,:].plot()"
   ]
  },
  {
   "cell_type": "code",
   "execution_count": null,
   "metadata": {},
   "outputs": [],
   "source": [
    "ds_tmp['T'][0]"
   ]
  },
  {
   "cell_type": "code",
   "execution_count": null,
   "metadata": {},
   "outputs": [],
   "source": [
    "def to_pandas(Tgrid):\n",
    "    \"\"\"\n",
    "    Parse the time grid of a Dataset and replace by a pandas time grid.\n",
    "    \"\"\"\n",
    "    # first get the reference year from units\n",
    "    words = Tgrid.units.split()\n",
    "    ref_year = int(words[-1][0:4])\n",
    "    # get the first time grid value\n",
    "    first_time = Tgrid.values[0] - 0.5\n",
    "    datetime = enso2date(first_time,ref_year)\n",
    "    if 'months since' in Tgrid.units:\n",
    "        return pd.date_range(datetime, periods=Tgrid.shape[0], freq='MS').shift(15, freq='D')\n",
    "    elif 'days since' in Tgrid.units:\n",
    "        return pd.date_range(datetime, periods=Tgrid.shape[0], freq='D')\n",
    "    else:\n",
    "        print('Unrecognized time grid')\n",
    "        return"
   ]
  },
  {
   "cell_type": "code",
   "execution_count": null,
   "metadata": {},
   "outputs": [],
   "source": [
    "def enso2date(T0,ryear=1960,leap=True):\n",
    "    norm = [31, 28, 31, 30, 31, 30, 31, 31, 30, 31, 30, 31]\n",
    "    iy = ryear + int(T0/12)\n",
    "    if T0 < 0:\n",
    "        iy = iy - 1\n",
    "    res = T0 - (iy - ryear)*12\n",
    "    im = int(res) + 1\n",
    "    if im == 13:\n",
    "        im = 1\n",
    "        iy = iy + 1\n",
    "    if leap & (im == 2) &  (iy % 4 == 0 ):   \n",
    "        id = 1 + int(29 * (res - int(res)))\n",
    "    else:\n",
    "        id = 1 + int(norm[im-1] * (res - int(res)))\n",
    "    return str(im)+'/'+str(id)+'/'+str(iy)\n",
    "\n",
    "enso2date(1.999),enso2date(13.999)"
   ]
  },
  {
   "cell_type": "code",
   "execution_count": null,
   "metadata": {},
   "outputs": [],
   "source": [
    "Tgrid = ds_tmp['T']\n",
    "to_pandas(Tgrid)"
   ]
  },
  {
   "cell_type": "code",
   "execution_count": null,
   "metadata": {},
   "outputs": [],
   "source": [
    "ds_Surface = ds_tmp.rename({'T':'time'})\n",
    "ds_Surface['time'] = to_pandas(Tgrid)\n",
    "ds_Surface.t2m[0,:,:].plot()"
   ]
  },
  {
   "cell_type": "code",
   "execution_count": null,
   "metadata": {},
   "outputs": [],
   "source": [
    "ds_Surface.t2m.to_netcdf('t2m.nc',encoding={'time':{'dtype':'float32'}})"
   ]
  },
  {
   "cell_type": "code",
   "execution_count": null,
   "metadata": {},
   "outputs": [],
   "source": [
    "dtype = 'PressureLevels'\n",
    "ds_tmp = xr.open_mfdataset(glob(ddict[dtype]),decode_times=False)\n",
    "\n",
    "Tgrid = ds_tmp['T']\n",
    "ds_tmp['T'] = to_pandas(Tgrid) \n",
    "ds_tmp['T']"
   ]
  },
  {
   "cell_type": "code",
   "execution_count": null,
   "metadata": {},
   "outputs": [],
   "source": [
    "ds_PL = ds_tmp.rename({'T':'time'})"
   ]
  },
  {
   "cell_type": "code",
   "execution_count": null,
   "metadata": {},
   "outputs": [],
   "source": [
    "names = list(ds_PL.data_vars.variables); names"
   ]
  },
  {
   "cell_type": "code",
   "execution_count": null,
   "metadata": {},
   "outputs": [],
   "source": [
    "ds_PL.u[0,0].plot()"
   ]
  },
  {
   "cell_type": "code",
   "execution_count": 177,
   "metadata": {},
   "outputs": [],
   "source": [
    "#ds_PL.u.to_netcdf('u.nc',encoding={'time':{'dtype':'float32'}})"
   ]
  },
  {
   "cell_type": "code",
   "execution_count": null,
   "metadata": {},
   "outputs": [],
   "source": [
    "dtype = 'Accum'\n",
    "ds_tmp = xr.open_mfdataset(glob(ddict[dtype]),decode_times=False)\n",
    "names = list(ds_tmp.data_vars.variables)\n",
    "for var in sorted(names):\n",
    "    print(var+':\\t',ds_tmp[var].long_name)"
   ]
  },
  {
   "cell_type": "code",
   "execution_count": null,
   "metadata": {},
   "outputs": [],
   "source": [
    "Tgrid = ds_tmp['T']\n",
    "ds_Accum = ds_tmp.rename({'T':'time'})\n",
    "ds_Accum['time'] = to_pandas(Tgrid)\n",
    "ds_Accum.tp.mean('time').plot(vmax = 1e-7)"
   ]
  },
  {
   "cell_type": "code",
   "execution_count": null,
   "metadata": {},
   "outputs": [],
   "source": [
    "ds_Accum.tp.to_netcdf('tp.nc',encoding={'time':{'dtype':'float32'}})"
   ]
  },
  {
   "cell_type": "code",
   "execution_count": null,
   "metadata": {},
   "outputs": [],
   "source": []
  }
 ],
 "metadata": {
  "kernelspec": {
   "display_name": "Python 3",
   "language": "python",
   "name": "python3"
  },
  "language_info": {
   "codemirror_mode": {
    "name": "ipython",
    "version": 3
   },
   "file_extension": ".py",
   "mimetype": "text/x-python",
   "name": "python",
   "nbconvert_exporter": "python",
   "pygments_lexer": "ipython3",
   "version": "3.6.5"
  }
 },
 "nbformat": 4,
 "nbformat_minor": 2
}
