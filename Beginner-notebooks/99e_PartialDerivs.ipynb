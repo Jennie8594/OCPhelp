{
 "cells": [
  {
   "cell_type": "code",
   "execution_count": null,
   "metadata": {},
   "outputs": [],
   "source": [
    "import numpy as np\n",
    "import xarray as xr\n",
    "from matplotlib import pyplot as plt\n",
    "%matplotlib inline\n",
    "plt.rcParams['figure.figsize'] = (8,5)\n",
    "#from scipy.interpolate import *"
   ]
  },
  {
   "cell_type": "code",
   "execution_count": null,
   "metadata": {},
   "outputs": [],
   "source": [
    "ds = xr.open_dataset('/net/kage/d5/datasets/ERAInterim/monthly/Surface/u10.nc',decode_times=False)\n",
    "u0 = ds.u10[0].sel(Y=slice(80,-80))\n",
    "u0"
   ]
  },
  {
   "cell_type": "code",
   "execution_count": null,
   "metadata": {},
   "outputs": [],
   "source": [
    "dudx0 = u0.diff('X')/ds.X.diff('X')\n",
    "coslat = np.cos(np.deg2rad(u0.Y))\n",
    "deg2meter = coslat*111000\n",
    "dudxms = dudx0/deg2meter\n",
    "dudxms.plot(vmin=-1e-5,vmax=1e-5)"
   ]
  },
  {
   "cell_type": "code",
   "execution_count": null,
   "metadata": {},
   "outputs": [],
   "source": [
    "du = u0.diff('X').rolling(X=2).mean().shift(X=-1)\n",
    "dx = coslat*111000*u0.X.diff('X').rolling(X=2).mean().shift(X=-1)\n",
    "dudx = du/dx\n",
    "fig, ax = plt.subplots(figsize=(10,3))\n",
    "plt.subplot(121)\n",
    "dx.plot()\n",
    "plt.subplot(122)\n",
    "dudx.plot(vmin=-1e-5,vmax=1e-5)\n",
    "plt.tight_layout"
   ]
  },
  {
   "cell_type": "code",
   "execution_count": null,
   "metadata": {},
   "outputs": [],
   "source": []
  },
  {
   "cell_type": "code",
   "execution_count": null,
   "metadata": {},
   "outputs": [],
   "source": []
  },
  {
   "cell_type": "code",
   "execution_count": null,
   "metadata": {},
   "outputs": [],
   "source": []
  }
 ],
 "metadata": {
  "kernelspec": {
   "display_name": "Py3 pangeo",
   "language": "python",
   "name": "pangeo"
  },
  "language_info": {
   "codemirror_mode": {
    "name": "ipython",
    "version": 3
   },
   "file_extension": ".py",
   "mimetype": "text/x-python",
   "name": "python",
   "nbconvert_exporter": "python",
   "pygments_lexer": "ipython3",
   "version": "3.6.5"
  }
 },
 "nbformat": 4,
 "nbformat_minor": 2
}
