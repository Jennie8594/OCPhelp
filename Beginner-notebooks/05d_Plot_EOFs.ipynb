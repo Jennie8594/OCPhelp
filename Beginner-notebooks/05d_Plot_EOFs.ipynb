{
 "cells": [
  {
   "cell_type": "code",
   "execution_count": null,
   "metadata": {
    "collapsed": false
   },
   "outputs": [],
   "source": [
    "import numpy as np\n",
    "import xarray as xr\n",
    "from matplotlib import pyplot as plt\n",
    "#from mpl_toolkits.basemap import Basemap as bm\n",
    "from eofs.standard import Eof\n",
    "%matplotlib inline\n",
    "\n",
    "import cartopy.crs as ccrs\n",
    "import cartopy.feature as cfeature \n",
    "from cartopy.mpl.ticker import LongitudeFormatter, LatitudeFormatter\n",
    "import matplotlib.dates as mdates"
   ]
  },
  {
   "cell_type": "markdown",
   "metadata": {},
   "source": [
    "### Define functions to plot our 2D map and 1D time series"
   ]
  },
  {
   "cell_type": "code",
   "execution_count": null,
   "metadata": {
    "collapsed": false
   },
   "outputs": [],
   "source": [
    "def plot_field(subp, X, lat, lon, vmin, vmax, step, cmap=plt.get_cmap('jet'),title=False, grid=False):\n",
    "    proj = ccrs.PlateCarree(central_longitude=180)\n",
    "    trans = ccrs.PlateCarree()\n",
    "    ax = plt.subplot(subp, projection=proj)\n",
    "    im = ax.contourf(lons, lats, X, np.arange(vmin, vmax+step, step),\n",
    "        transform=trans,cmap=cmap)\n",
    "    cb = plt.colorbar(im, orientation='horizontal', shrink = 0.8, pad=0.15, extend='none')\n",
    "    if grid: \n",
    "        ax.coastlines(linewidth=1.5)\n",
    "        ax.set_xticks(np.arange(140, 300, 40), crs=trans)\n",
    "        ax.set_yticks(np.arange(-40,41,20), crs=trans)\n",
    "        lon_formatter = LongitudeFormatter(zero_direction_label=True)\n",
    "        lat_formatter = LatitudeFormatter()\n",
    "        ax.xaxis.set_major_formatter(lon_formatter)\n",
    "        ax.yaxis.set_major_formatter(lat_formatter)\n",
    "        ax.gridlines(xlocs=np.arange(100, 340, 40),ylocs = np.arange(-40,60,20))\n",
    "    if title: \n",
    "        ax.set_title(title,fontsize=16)\n",
    "\n",
    "def plot_line(subp, X, time, title=False, grid=False):\n",
    "    ax = plt.subplot(subp)\n",
    "    plt.plot(time, X, marker='o')\n",
    "    years = mdates.YearLocator(10)   # plot labels every 10 years\n",
    "    plt.ylabel(r'$\\degree C$')\n",
    "    if grid: \n",
    "        ax.xaxis.set_major_locator(years)\n",
    "        ax.xaxis.grid(True)\n",
    "        #ax.yaxis.grid(True)\n",
    "    if title: \n",
    "        plt.title(title, fontsize=16)"
   ]
  },
  {
   "cell_type": "markdown",
   "metadata": {},
   "source": [
    "## load the EOFs using xarray"
   ]
  },
  {
   "cell_type": "code",
   "execution_count": null,
   "metadata": {
    "collapsed": false
   },
   "outputs": [],
   "source": [
    "ds = xr.open_dataset('python_EOF.nc')\n",
    "ds"
   ]
  },
  {
   "cell_type": "markdown",
   "metadata": {},
   "source": [
    "### plots "
   ]
  },
  {
   "cell_type": "code",
   "execution_count": null,
   "metadata": {},
   "outputs": [],
   "source": [
    "lons, lats = np.meshgrid(ds.X, ds.Y)\n",
    "ds"
   ]
  },
  {
   "cell_type": "code",
   "execution_count": null,
   "metadata": {},
   "outputs": [],
   "source": [
    "plt.figure(figsize=(10, 6))\n",
    "plot_field(221, -ds.Ss[0].squeeze(), lats, lons, -1, 1, 0.1, cmap='RdBu_r', title=r'EOF$_1$', grid=True)\n",
    "plot_field(222, ds.Ss[1].squeeze(), lats, lons, -1, 1, 0.1, cmap='RdBu_r', title=r'EOF$_2$', grid=True)\n",
    "plot_line(223, -ds.Ts[0], ds['T'], title = r'PC$_1$', grid=True) \n",
    "plot_line(224, ds.Ts[1], ds['T'], title = r'PC$_2$', grid=True)\n",
    "plt.tight_layout()\n",
    "#plt.savefig('plot.png')"
   ]
  },
  {
   "cell_type": "code",
   "execution_count": null,
   "metadata": {},
   "outputs": [],
   "source": []
  },
  {
   "cell_type": "code",
   "execution_count": null,
   "metadata": {},
   "outputs": [],
   "source": []
  }
 ],
 "metadata": {
  "kernelspec": {
   "display_name": "Py3 pangeo",
   "language": "python",
   "name": "pangeo"
  },
  "language_info": {
   "codemirror_mode": {
    "name": "ipython",
    "version": 3
   },
   "file_extension": ".py",
   "mimetype": "text/x-python",
   "name": "python",
   "nbconvert_exporter": "python",
   "pygments_lexer": "ipython3",
   "version": "3.6.5"
  }
 },
 "nbformat": 4,
 "nbformat_minor": 2
}
