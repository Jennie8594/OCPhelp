{
 "cells": [
  {
   "cell_type": "markdown",
   "metadata": {},
   "source": [
    "## Setting up Jupyter Notebook on byrd for help sessions"
   ]
  },
  {
   "cell_type": "markdown",
   "metadata": {},
   "source": [
    "#1. open a terminal on your laptop\n",
    "\n",
    "#2. log onto byrd with your username (first part of email address)\n",
    "\n",
    "    ssh -X username@byrd.ldeo.columbia.edu\n",
    "    # install basic conda config (answer yes to all questions)\n",
    "    sh /home/pangeo/Miniconda3-latest-Linux-x86_64.sh\n",
    "    source ~/.bashrc\n",
    "    conda update -n base conda\n",
    "\n",
    "#3. set up environment \n",
    "\n",
    "    cp /home/pangeo/pangeo_environment.yml .\n",
    "    conda env create -f pangeo_environment.yml\n",
    "    mkdir notebooks\n",
    "\n",
    "#4. set up notebook server:\n",
    "\n",
    "    source activate pangeo\n",
    "    jupyter notebook --generate-config\n",
    "\n",
    "    # edit .jupyter/jupyter_notebook_config.py\n",
    "    # you will want to change these lines:\n",
    "    # (notice it tells you how to setup your password using python - do it)\n",
    "    \n",
    "        #c.NotebookApp.ip = 'localhost'\n",
    "        #c.NotebookApp.open_browser = True\n",
    "        #c.NotebookApp.password = ''\n",
    "        #c.NotebookApp.port = 8888\n",
    "\n",
    "    # here are my settings, for example, (this is not the hash of my real passwd)\n",
    "\n",
    "        c.NotebookApp.ip = 'byrd.ldeo.columbia.edu'\n",
    "        c.NotebookApp.open_browser = False\n",
    "        c.NotebookApp.password = 'YourPasswordHere'\n",
    "        c.NotebookApp.port = xxxx\n",
    "    \n",
    "    # test your jupyter notebook\n",
    "    jupyter notebook\n",
    "    # now try opening in your browser (chrome, if possible): http://byrd.ldeo.columbia.edu:xxxx\n",
    "\n",
    "#5. to restart notebook server without staying logged onto byrd:\n",
    "\n",
    "    ssh -X username@byrd.ldeo.columbia.edu\n",
    "    cd notebooks\n",
    "    source activate pangeo\n",
    "    jupyter notebook >& /dev/null &\n",
    "    exit\n",
    "    \n",
    "</code>\n",
    "</pre>\n",
    "</body>\n",
    "</html>"
   ]
  },
  {
   "cell_type": "code",
   "execution_count": null,
   "metadata": {},
   "outputs": [],
   "source": []
  }
 ],
 "metadata": {
  "kernelspec": {
   "display_name": "Python 3",
   "language": "python",
   "name": "python3"
  },
  "language_info": {
   "codemirror_mode": {
    "name": "ipython",
    "version": 3
   },
   "file_extension": ".py",
   "mimetype": "text/x-python",
   "name": "python",
   "nbconvert_exporter": "python",
   "pygments_lexer": "ipython3",
   "version": "3.6.2"
  }
 },
 "nbformat": 4,
 "nbformat_minor": 2
}
