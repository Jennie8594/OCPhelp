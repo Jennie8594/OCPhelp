{
 "cells": [
  {
   "cell_type": "code",
   "execution_count": 1,
   "metadata": {},
   "outputs": [],
   "source": [
    "import Nio\n",
    "import Ngl\n",
    "import numpy as np\n",
    "import xarray as xr\n",
    "import matplotlib.pyplot as plt\n",
    "%matplotlib inline"
   ]
  },
  {
   "cell_type": "code",
   "execution_count": 2,
   "metadata": {},
   "outputs": [],
   "source": [
    "# extract needed variables from CESM output (this is a minimal set) while concatenating or make\n",
    "# a separate file - here is what I did:\n",
    "#  ncrcat -v U,hyam,hybm,P0,PS 1903*.nc U.nc"
   ]
  },
  {
   "cell_type": "code",
   "execution_count": 11,
   "metadata": {},
   "outputs": [
    {
     "data": {
      "text/plain": [
       "<xarray.Dataset>\n",
       "Dimensions:  (lat: 64, lev: 18, lon: 128, time: 12)\n",
       "Coordinates:\n",
       "  * lat      (lat) float32 -87.8638 -85.09653 -82.31291 -79.525604 -76.7369 ...\n",
       "  * lon      (lon) float32 0.0 2.8125 5.625 8.4375 11.25 14.0625 16.875 ...\n",
       "  * lev      (lev) float32 4.8093 13.0731 32.5591 63.947098 99.04321 ...\n",
       "  * time     (time) float32 1126.0 1154.0 1185.0 1215.0 1246.0 1276.0 1307.0 ...\n",
       "Data variables:\n",
       "    P0       float32 ...\n",
       "    hyam     (lev) float64 ...\n",
       "    hybm     (lev) float64 ...\n",
       "    PS       (time, lat, lon) float32 ...\n",
       "    U        (time, lev, lat, lon) float32 ...\n",
       "    V        (time, lev, lat, lon) float32 ...\n",
       "Attributes:\n",
       "    Conventions:               NCAR-CSM\n",
       "    source:                    CCM\n",
       "    case:                      cmip2014\n",
       "    title:                     climo SSTs minus the cmip4 trend\n",
       "    logname:                   naomi\n",
       "    host:                      sunra\n",
       "    history:                   Tue Apr 10 16:11:41 2018: ncrcat -v U,V,hyam,h...\n",
       "    NCO:                       \"4.6.2\"\n",
       "    nco_openmp_thread_number:  1"
      ]
     },
     "execution_count": 11,
     "metadata": {},
     "output_type": "execute_result"
    }
   ],
   "source": [
    "ds = xr.open_dataset('UV.nc',decode_times=False)\n",
    "ds"
   ]
  },
  {
   "cell_type": "code",
   "execution_count": 4,
   "metadata": {},
   "outputs": [
    {
     "data": {
      "text/plain": [
       "(12, 18, 64, 128)"
      ]
     },
     "execution_count": 4,
     "metadata": {},
     "output_type": "execute_result"
    }
   ],
   "source": [
    "hbcofa = ds.hyam.values\n",
    "hbcofb = ds.hybm.values\n",
    "plevo = [1000,900,250]\n",
    "psfc = ds.PS\n",
    "intyp = 1\n",
    "kxtrp = False  # True: extrapolate, # False: don't\n",
    "p0 = ds.P0.values\n",
    "np.shape(ds.U.values)"
   ]
  },
  {
   "cell_type": "code",
   "execution_count": 16,
   "metadata": {},
   "outputs": [],
   "source": [
    "u = Ngl.vinth2p(ds.U, hbcofa, hbcofb, plevo, psfc, intyp, p0, 1, kxtrp)"
   ]
  },
  {
   "cell_type": "code",
   "execution_count": 13,
   "metadata": {},
   "outputs": [
    {
     "data": {
      "text/plain": [
       "(12, 3, 64, 128)"
      ]
     },
     "execution_count": 13,
     "metadata": {},
     "output_type": "execute_result"
    }
   ],
   "source": [
    "np.shape(u)"
   ]
  },
  {
   "cell_type": "code",
   "execution_count": 7,
   "metadata": {},
   "outputs": [],
   "source": [
    "ds_out = xr.Dataset({'lon': ('lon', ds.lon), 'lat': ('lat', ds.lat),\\\n",
    "                     'plev': ('plev', plevo), 'time': ('time',ds.time)})"
   ]
  },
  {
   "cell_type": "code",
   "execution_count": 14,
   "metadata": {},
   "outputs": [],
   "source": [
    "ds_out['u'] = (['time','plev','lat','lon'],u)\n",
    "ds_out.lon.attrs = ds.lon.attrs\n",
    "ds_out.lat.attrs = ds.lat.attrs\n",
    "ds_out.time.attrs = ds.time.attrs\n",
    "ds_out.plev.attrs = [('units','mb')]\n",
    "ds_out.u.attrs = [('units','m/s')]\n",
    "ds_out.u.attrs = [('_FillValue',1e30)]"
   ]
  },
  {
   "cell_type": "code",
   "execution_count": 17,
   "metadata": {},
   "outputs": [
    {
     "data": {
      "text/plain": [
       "<matplotlib.collections.QuadMesh at 0x7f7569b730d0>"
      ]
     },
     "execution_count": 17,
     "metadata": {},
     "output_type": "execute_result"
    },
    {
     "data": {
      "image/png": "[encoded data removed]",
      "text/plain": [
       "<Figure size 432x288 with 2 Axes>"
      ]
     },
     "metadata": {},
     "output_type": "display_data"
    }
   ],
   "source": [
    "ds2 = ds_out.mean('time').sel(plev = 900)\n",
    "ds2.where(ds2.u < 10000).u.plot()"
   ]
  },
  {
   "cell_type": "code",
   "execution_count": 19,
   "metadata": {},
   "outputs": [],
   "source": [
    "ds_out.to_netcdf('u.nc')"
   ]
  },
  {
   "cell_type": "code",
   "execution_count": null,
   "metadata": {},
   "outputs": [],
   "source": []
  },
  {
   "cell_type": "code",
   "execution_count": null,
   "metadata": {},
   "outputs": [],
   "source": []
  },
  {
   "cell_type": "code",
   "execution_count": null,
   "metadata": {},
   "outputs": [],
   "source": []
  }
 ],
 "metadata": {
  "kernelspec": {
   "display_name": "Py2 PyNGL",
   "language": "python",
   "name": "python2.7"
  },
  "language_info": {
   "codemirror_mode": {
    "name": "ipython",
    "version": 2
   },
   "file_extension": ".py",
   "mimetype": "text/x-python",
   "name": "python",
   "nbconvert_exporter": "python",
   "pygments_lexer": "ipython2",
   "version": "2.7.14"
  }
 },
 "nbformat": 4,
 "nbformat_minor": 2
}
